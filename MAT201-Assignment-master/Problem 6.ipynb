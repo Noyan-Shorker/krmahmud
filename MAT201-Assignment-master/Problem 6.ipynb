{
 "cells": [
  {
   "cell_type": "markdown",
   "metadata": {},
   "source": [
    "##Write a function called matches that takes two strings as arguments and returns how many matches there are between the strings. A match is where the two strings have the same character at the same index. For instance, ' python ' and ' path ' match in the first, third, and fourth characters, so the function should return 3."
   ]
  },
  {
   "cell_type": "code",
   "execution_count": 3,
   "metadata": {},
   "outputs": [
    {
     "name": "stdout",
     "output_type": "stream",
     "text": [
      "Enter one word:promi\n",
      "Enter another word:pale\n",
      "the words have 1 matches\n"
     ]
    }
   ],
   "source": [
    "def matches(st_1,st_2):\n",
    "    num_1=len(st_1)\n",
    "    num_2=len(st_2)\n",
    "    j=0\n",
    "    i=0\n",
    "    if(num_1<num_2):\n",
    "        while(i<num_1):\n",
    "            if(st_1[i]==st_2[i]):\n",
    "                j=j+1\n",
    "            i=i+1\n",
    "    else:\n",
    "        while(i<num_2):\n",
    "            if(st_1[i]==st_2[i]):\n",
    "                j=j+1\n",
    "            i=i+1\n",
    "    return j\n",
    "x=input(\"Enter one word:\")\n",
    "y=input('Enter another word:')\n",
    "s=matches(x,y)\n",
    "print('the words have',s,'matches')"
   ]
  },
  {
   "cell_type": "code",
   "execution_count": null,
   "metadata": {},
   "outputs": [],
   "source": []
  }
 ],
 "metadata": {
  "kernelspec": {
   "display_name": "Python 3",
   "language": "python",
   "name": "python3"
  },
  "language_info": {
   "codemirror_mode": {
    "name": "ipython",
    "version": 3
   },
   "file_extension": ".py",
   "mimetype": "text/x-python",
   "name": "python",
   "nbconvert_exporter": "python",
   "pygments_lexer": "ipython3",
   "version": "3.7.1"
  }
 },
 "nbformat": 4,
 "nbformat_minor": 2
}
