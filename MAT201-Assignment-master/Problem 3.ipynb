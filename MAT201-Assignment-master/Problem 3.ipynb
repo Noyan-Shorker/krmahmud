{
 "cells": [
  {
   "cell_type": "markdown",
   "metadata": {},
   "source": [
    "##Write the same function except that it should not modify the original list and should instead return a new list.\n"
   ]
  },
  {
   "cell_type": "code",
   "execution_count": 5,
   "metadata": {},
   "outputs": [
    {
     "name": "stdout",
     "output_type": "stream",
     "text": [
      "How many lines do you want?2\n",
      "\n",
      "Enter your text:uyghjg\n",
      "\n",
      "Enter your text:jhgbh\n",
      "\n",
      "Before Calling The Function\n",
      "Input List : ['uyghjg', 'jhgbh']\n",
      "\n",
      "After Calling The Function\n",
      "Input List:  ['uyghjg', 'jhgbh']\n",
      "\n",
      "New List:  ['uyghjg!', 'jhgbh!']\n"
     ]
    }
   ],
   "source": [
    "def Add_Excitment(my_list):\n",
    "    new_list=[] #creating new list\n",
    "    i=0\n",
    "    while i<len(my_list):\n",
    "        new_list.insert(i,my_list[i]+'!') #for adding (!) sign\n",
    "        i=i+1\n",
    "    return new_list\n",
    "a=input('How many lines do you want?') #adding new lines\n",
    "a=int(a)\n",
    "st_list=['s'] * a\n",
    "j=0\n",
    "while j<len(st_list):\n",
    "    st_list[j]=input('\\nEnter your text:') #taking input from user\n",
    "    j=j+1\n",
    "print('\\nBefore Calling The Function\\nInput List :',st_list)\n",
    "res_list=Add_Excitment(st_list) #calling the function\n",
    "print('\\nAfter Calling The Function\\nInput List: ',st_list)\n",
    "print('\\nNew List: ',res_list)"
   ]
  },
  {
   "cell_type": "code",
   "execution_count": null,
   "metadata": {},
   "outputs": [],
   "source": []
  }
 ],
 "metadata": {
  "kernelspec": {
   "display_name": "Python 3",
   "language": "python",
   "name": "python3"
  },
  "language_info": {
   "codemirror_mode": {
    "name": "ipython",
    "version": 3
   },
   "file_extension": ".py",
   "mimetype": "text/x-python",
   "name": "python",
   "nbconvert_exporter": "python",
   "pygments_lexer": "ipython3",
   "version": "3.7.1"
  }
 },
 "nbformat": 4,
 "nbformat_minor": 2
}
