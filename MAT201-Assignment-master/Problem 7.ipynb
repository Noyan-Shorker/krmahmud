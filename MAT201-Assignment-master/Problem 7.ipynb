{
 "cells": [
  {
   "cell_type": "markdown",
   "metadata": {},
   "source": [
    "##Write a function called primes that is given a number n and returns a list of the first n primes. Let the default value of n be 100."
   ]
  },
  {
   "cell_type": "code",
   "execution_count": 3,
   "metadata": {},
   "outputs": [
    {
     "name": "stdout",
     "output_type": "stream",
     "text": [
      "Enter a Number:100\n",
      "Prime Numbers upto 100 \n",
      " [2, 3, 5, 7, 11, 13, 17, 19, 23, 29, 31, 37, 41, 43, 47, 53, 59, 61, 67, 71, 73, 79, 83, 89, 97]\n"
     ]
    }
   ],
   "source": [
    "def prime(n):\n",
    "    ind=0\n",
    "    list=[]\n",
    "    i=2\n",
    "    while i<=n:\n",
    "        primes=True\n",
    "        j=2\n",
    "        while primes==True and j<i: #while loop for checking numbers\n",
    "            if i%j==0:#if the remainder is zero then the condition will be false\n",
    "                primes=False\n",
    "            j=j+1\n",
    "        if primes==True: #if true then the function will work here\n",
    "            list.insert(ind,i)\n",
    "            ind=ind+1\n",
    "        i=i+1\n",
    "    return list\n",
    "a=int(input('Enter a Number:')) #taking input from user\n",
    "prime_list=Prime(a)\n",
    "print('Prime Numbers upto',a,'\\n',prime_list) #printing output"
   ]
  },
  {
   "cell_type": "code",
   "execution_count": null,
   "metadata": {},
   "outputs": [],
   "source": []
  }
 ],
 "metadata": {
  "kernelspec": {
   "display_name": "Python 3",
   "language": "python",
   "name": "python3"
  },
  "language_info": {
   "codemirror_mode": {
    "name": "ipython",
    "version": 3
   },
   "file_extension": ".py",
   "mimetype": "text/x-python",
   "name": "python",
   "nbconvert_exporter": "python",
   "pygments_lexer": "ipython3",
   "version": "3.7.1"
  }
 },
 "nbformat": 4,
 "nbformat_minor": 2
}
