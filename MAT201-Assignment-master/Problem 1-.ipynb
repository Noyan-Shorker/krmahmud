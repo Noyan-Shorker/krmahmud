{
 "cells": [
  {
   "cell_type": "code",
   "execution_count": 5,
   "metadata": {},
   "outputs": [
    {
     "name": "stdout",
     "output_type": "stream",
     "text": [
      "Enter Height: 3\n",
      "Enter Width: 3\n",
      "Output\n",
      "* * * \n",
      "* * * \n",
      "* * * \n"
     ]
    }
   ],
   "source": [
    "##Write a function called rectangle that takes two integers m and n as arguments and prints out an m × n box consisting of asterisks.\n",
    "\n",
    "def rectangle(m,n):\n",
    "    for i in range(m):\n",
    "        for j in range(n):\n",
    "            print(end='* ') #here asterisks means(*)this sign\n",
    "        print()\n",
    "x=int(input('Enter Height: '))\n",
    "y=int(input('Enter Width: '))\n",
    "print('Output')\n",
    "rectangle(x,y)"
   ]
  },
  {
   "cell_type": "code",
   "execution_count": null,
   "metadata": {},
   "outputs": [],
   "source": []
  }
 ],
 "metadata": {
  "kernelspec": {
   "display_name": "Python 3",
   "language": "python",
   "name": "python3"
  },
  "language_info": {
   "codemirror_mode": {
    "name": "ipython",
    "version": 3
   },
   "file_extension": ".py",
   "mimetype": "text/x-python",
   "name": "python",
   "nbconvert_exporter": "python",
   "pygments_lexer": "ipython3",
   "version": "3.7.1"
  }
 },
 "nbformat": 4,
 "nbformat_minor": 2
}
