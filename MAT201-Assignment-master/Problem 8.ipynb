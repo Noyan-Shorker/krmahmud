{
 "cells": [
  {
   "cell_type": "markdown",
   "metadata": {},
   "source": [
    "##Recall that if s is a string, then s.find( ' a ' ) will find the location of the first a in s . The problem is that it does not find the location of every a. Write a function called findall that given a string and a single character, returns a list containing all of the locations of that character in the string. It should return an empty list if there are no occurrences of the character in the string."
   ]
  },
  {
   "cell_type": "code",
   "execution_count": 2,
   "metadata": {},
   "outputs": [
    {
     "name": "stdout",
     "output_type": "stream",
     "text": [
      "Enter a String: promi\n",
      "Enter a Character: m\n",
      "The position's of character m in the string\n",
      " [3]\n"
     ]
    }
   ],
   "source": [
    "def find_all(string,character):\n",
    "    ls=[]\n",
    "    index=0\n",
    "    j=0\n",
    "    for c in string:\n",
    "        if c==character: #condition for comparing character\n",
    "            ls.insert(index,j) #calling the value of index and j\n",
    "            index=index+1\n",
    "        j=j+1\n",
    "    return ls\n",
    "my_string=input('Enter a String: ') #taking string input from user\n",
    "my_character=input('Enter a Character: ')\n",
    "res_list=find_all(my_string,my_character) #calling the function  named find_all\n",
    "print(\"The position's of character\",my_character,'in the string\\n',res_list)\n"
   ]
  },
  {
   "cell_type": "code",
   "execution_count": null,
   "metadata": {},
   "outputs": [],
   "source": []
  }
 ],
 "metadata": {
  "kernelspec": {
   "display_name": "Python 3",
   "language": "python",
   "name": "python3"
  },
  "language_info": {
   "codemirror_mode": {
    "name": "ipython",
    "version": 3
   },
   "file_extension": ".py",
   "mimetype": "text/x-python",
   "name": "python",
   "nbconvert_exporter": "python",
   "pygments_lexer": "ipython3",
   "version": "3.7.1"
  }
 },
 "nbformat": 4,
 "nbformat_minor": 2
}
